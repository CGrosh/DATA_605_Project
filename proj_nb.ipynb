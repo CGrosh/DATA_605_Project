{
 "cells": [
  {
   "cell_type": "code",
   "execution_count": 1,
   "metadata": {},
   "outputs": [
    {
     "name": "stdout",
     "output_type": "stream",
     "text": [
      "name 'client' is not defined\n"
     ]
    }
   ],
   "source": [
    "#imports\n",
    "import dask, joblib\n",
    "import dask.dataframe as dd\n",
    "from dask.distributed import Client, progress\n",
    "import dask.array as da\n",
    "from dask.diagnostics import Profiler, ResourceProfiler, CacheProfiler\n",
    "from dask_ml import cluster, decomposition, linear_model, metrics\n",
    "from dask_ml.impute import SimpleImputer\n",
    "from dask_ml.model_selection import train_test_split, KFold\n",
    "from dask_ml.preprocessing import OneHotEncoder, StandardScaler\n",
    "from sklearn import tree, ensemble, svm\n",
    "from sklearn.metrics import accuracy_score, precision_score, confusion_matrix\n",
    "import xgboost as xgb\n",
    "import pandas as pd\n",
    "import numpy as np\n",
    "\n",
    "def cat_features(dataframe):\n",
    "    td = pd.DataFrame({'a': [1,2,3], 'b': [1.0, 2.0, 3.0]})\n",
    "    return filter(lambda x: not(dataframe[x].dtype in [td['a'].dtype, td['b'].dtype]), list(dataframe))\n",
    "\n",
    "#close existing dask connection if it exists and open a new one\n",
    "try:\n",
    "    if client is not None:\n",
    "        client.close()\n",
    "        print(\"closed existing connection, \",client)       \n",
    "except Exception as e:\n",
    "    print(e)"
   ]
  },
  {
   "cell_type": "code",
   "execution_count": 2,
   "metadata": {},
   "outputs": [
    {
     "name": "stderr",
     "output_type": "stream",
     "text": [
      "/home/cgrosh/anaconda3/lib/python3.7/site-packages/distributed/dashboard/core.py:74: UserWarning: \n",
      "Port 8787 is already in use. \n",
      "Perhaps you already have a cluster running?\n",
      "Hosting the diagnostics dashboard on a random port instead.\n",
      "  warnings.warn(\"\\n\" + msg)\n"
     ]
    },
    {
     "data": {
      "text/html": [
       "<table style=\"border: 2px solid white;\">\n",
       "<tr>\n",
       "<td style=\"vertical-align: top; border: 0px solid white\">\n",
       "<h3>Client</h3>\n",
       "<ul>\n",
       "  <li><b>Scheduler: </b>tcp://127.0.0.1:38427\n",
       "  <li><b>Dashboard: </b><a href='http://127.0.0.1:34101/status' target='_blank'>http://127.0.0.1:34101/status</a>\n",
       "</ul>\n",
       "</td>\n",
       "<td style=\"vertical-align: top; border: 0px solid white\">\n",
       "<h3>Cluster</h3>\n",
       "<ul>\n",
       "  <li><b>Workers: </b>2</li>\n",
       "  <li><b>Cores: </b>4</li>\n",
       "  <li><b>Memory: </b>16.00 GB</li>\n",
       "</ul>\n",
       "</td>\n",
       "</tr>\n",
       "</table>"
      ],
      "text/plain": [
       "<Client: scheduler='tcp://127.0.0.1:38427' processes=2 cores=4>"
      ]
     },
     "metadata": {},
     "output_type": "display_data"
    }
   ],
   "source": [
    "#get new connection\n",
    "client = Client(n_workers=2, threads_per_worker=2, memory_limit='8GB')\n",
    "display(client)"
   ]
  },
  {
   "cell_type": "code",
   "execution_count": 3,
   "metadata": {},
   "outputs": [
    {
     "name": "stdout",
     "output_type": "stream",
     "text": [
      "Length of Dataset:  2097149\n",
      "Number of Columns:  26\n"
     ]
    }
   ],
   "source": [
    "# Declare the dtypes of the file to be more efficient when reading in \n",
    "feat_types = {'Dst Port': np.float64, 'Protocol': np.int64, 'Timestamp': str, \n",
    "              'Flow Duration': np.int64, 'Tot Fwd Pkts': np.int64, 'Tot Bwd Pkts': np.int64, \n",
    "              'TotLen Fwd Pkts': np.int64, 'TotLen Bwd Pkts': np.int64, 'Fwd Pkt Len Max': np.int64, \n",
    "              'Fwd Pkt Len Min': np.int64, 'Fwd Pkt Len Mean': np.float64, 'Fwd Pkt Len Std': np.float64, \n",
    "              'Bwd Pkt Len Max': np.int64, 'Bwd Pkt Len Min': np.int64, 'Bwd Pkt Len Mean': np.float64, \n",
    "              'Bwd Pkt Len Std': str, 'Flow Byts/s': str, 'Flow Pkts/s': np.float64, \n",
    "              'Flow IAT Mean': np.float64, 'Flow IAT Std': np.float64, 'Flow IAT Max': np.int64, \n",
    "              'Flow IAT Min': np.int64, 'Fwd IAT Tot': np.int64, 'Fwd IAT Mean': np.float64, \n",
    "              'Fwd IAT Std': np.float64, 'Fwd IAT Max': np.int64, 'Fwd IAT Min': np.int64, \n",
    "              'Bwd IAT Tot': np.int64, 'Bwd IAT Mean': np.float64, 'Bwd IAT Std': np.float64, \n",
    "              'Bwd IAT Max': np.int64, 'Bwd IAT Min': np.int64, 'Fwd PSH Flags': np.int64, \n",
    "              'Bwd PSH Flags': np.int64, 'Fwd URG Flags': np.int64, 'Bwd URG Flags': np.int64, \n",
    "              'Fwd Header Len': np.int64, 'Bwd Header Len': np.int64, 'Fwd Pkts/s': np.float64, \n",
    "              'Bwd Pkts/s': np.float64, 'Pkt Len Min': np.int64, 'Pkt Len Max': np.int64, \n",
    "              'Pkt Len Mean': np.float64, 'Pkt Len Std': np.float64, 'Pkt Len Var': np.float64, \n",
    "              'FIN Flag Cnt': np.int64, 'SYN Flag Cnt': np.int64, 'RST Flag Cnt': np.int64, \n",
    "              'PSH Flag Cnt': np.int64, 'ACK Flag Cnt': np.int64, 'URG Flag Cnt': np.int64, \n",
    "              'CWE Flag Count': np.int64, 'ECE Flag Cnt': np.int64, 'Down/Up Ratio': np.int64, \n",
    "              'Pkt Size Avg': np.float64, 'Fwd Seg Size Avg': np.float64, 'Bwd Seg Size Avg': np.float64, \n",
    "              'Fwd Byts/b Avg': np.int64, 'Fwd Pkts/b Avg': np.int64, 'Fwd Blk Rate Avg': np.int64, \n",
    "              'Bwd Byts/b Avg': np.int64, 'Bwd Pkts/b Avg': np.int64, 'Bwd Blk Rate Avg': np.int64, \n",
    "              'Subflow Fwd Pkts': np.int64, 'Subflow Fwd Byts': np.int64, 'Subflow Bwd Pkts': np.int64, \n",
    "              'Subflow Bwd Byts': np.int64, 'Init Fwd Win Byts': np.int64, 'Init Bwd Win Byts': np.int64, \n",
    "              'Fwd Act Data Pkts': np.int64, 'Fwd Seg Size Min': np.int64, 'Active Mean': np.float64, \n",
    "              'Active Std': np.float64, 'Active Max': np.int64, 'Active Min': np.int64, \n",
    "              'Idle Mean': np.float64, 'Idle Std': np.float64, 'Idle Max': np.int64,\n",
    "              'Idle Min': np.int64, 'Label': str}\n",
    "\n",
    "feat_types_check = {'Dst Port': float, 'Protocol': int, 'Timestamp': str, \n",
    "              'Flow Duration': int, 'Tot Fwd Pkts': int, 'Tot Bwd Pkts': int, \n",
    "              'TotLen Fwd Pkts': int, 'TotLen Bwd Pkts': int, \n",
    "              'Flow Pkts/s': float,  'Fwd PSH Flags': int, \n",
    "              'Bwd PSH Flags': int, 'Fwd URG Flags': int, 'Bwd URG Flags': int, \n",
    "              'Fwd Pkts/s': float, \n",
    "              'Bwd Pkts/s': float,\n",
    "              'FIN Flag Cnt': int, 'SYN Flag Cnt': int, 'RST Flag Cnt': int, \n",
    "              'PSH Flag Cnt': int, 'ACK Flag Cnt': int, 'URG Flag Cnt': int, \n",
    "              'CWE Flag Count': int, 'ECE Flag Cnt': int, \n",
    "              'Subflow Fwd Pkts': int, 'Subflow Fwd Byts': int, 'Subflow Bwd Pkts': int, \n",
    "              'Subflow Bwd Byts': int, 'Label': str}\n",
    "\n",
    "feature_cols = ['Dst Port', 'Protocol', 'Timestamp', 'Flow Duration', \n",
    "                'Tot Fwd Pkts', 'Tot Bwd Pkts', 'TotLen Fwd Pkts',\n",
    "                'TotLen Bwd Pkts', \n",
    "                'Flow IAT Mean', 'Fwd PSH Flags', 'Bwd PSH Flags', \n",
    "                'Fwd URG Flags','Bwd URG Flags', 'FIN Flag Cnt', \n",
    "                'SYN Flag Cnt', 'RST Flag Cnt', 'PSH Flag Cnt', \n",
    "                'ACK Flag Cnt', 'URG Flag Cnt','CWE Flag Count', \n",
    "                'ECE Flag Cnt', 'Subflow Fwd Pkts','Subflow Fwd Byts', \n",
    "                'Subflow Bwd Pkts', 'Subflow Bwd Byts', 'Label']\n",
    "# print(len(feat_types_check))\n",
    "# print(feature_cols[18])\n",
    "df = dd.read_csv('cic_data/23_02_2018.csv', usecols=feature_cols, low_memory=False)\n",
    "df_2 = dd.read_csv('cic_data/16_02_2018_fixeddata.csv', usecols=feature_cols, low_memory=False)\n",
    "# df_3 = dd.read_csv('cic_data/02_03_2018.csv', usecols=feature_cols, low_memory=False)\n",
    "df = df.append(df_2)\n",
    "# df = df.append(df_3)\n",
    "print(\"Length of Dataset: \", len(df))\n",
    "print(\"Number of Columns: \", len(df.columns))\n",
    "# print(\"Categorical Features: \", list(cat_features(df)))\n",
    "# Files in the zipped folder:\n",
    "# 23_02_2018.csv, 20_02_2018.csv, 16_02_2018.csv, 02_03_2018.csv\n",
    "# with ZipFile('cic_data.zip') as zipped:\n",
    "#     df = dd.from_pandas(pd.read_csv(zipped.open('23_02_2018.csv'), usecols=feature_cols), npartitions=2)\n",
    "#     df = df.append(pd.read_csv(zipped.open('16_02_2018.csv'), usecols=feature_cols))"
   ]
  },
  {
   "cell_type": "code",
   "execution_count": 4,
   "metadata": {},
   "outputs": [],
   "source": [
    "x_cols = ['Dst Port', 'Protocol', 'Flow Duration', \n",
    "                'Tot Fwd Pkts', 'Tot Bwd Pkts', 'TotLen Fwd Pkts',\n",
    "                'TotLen Bwd Pkts', 'Flow Byts/s', 'Flow Pkts/s', \n",
    "                'Flow IAT Mean', 'Fwd PSH Flags', 'Bwd PSH Flags', \n",
    "                'Fwd URG Flags','Bwd URG Flags', 'FIN Flag Cnt', \n",
    "                'SYN Flag Cnt', 'RST Flag Cnt', 'PSH Flag Cnt', \n",
    "                'ACK Flag Cnt', 'URG Flag Cnt','CWE Flag Count', \n",
    "                'ECE Flag Cnt', 'Subflow Fwd Pkts','Subflow Fwd Byts', \n",
    "                'Subflow Bwd Pkts', 'Subflow Bwd Byts']\n",
    "df['Target'] = 0 \n",
    "df['Target'] = df['Target'].mask(df['Label'] != 'Benign', 1)"
   ]
  },
  {
   "cell_type": "code",
   "execution_count": 5,
   "metadata": {},
   "outputs": [
    {
     "data": {
      "text/html": [
       "<div>\n",
       "<style scoped>\n",
       "    .dataframe tbody tr th:only-of-type {\n",
       "        vertical-align: middle;\n",
       "    }\n",
       "\n",
       "    .dataframe tbody tr th {\n",
       "        vertical-align: top;\n",
       "    }\n",
       "\n",
       "    .dataframe thead th {\n",
       "        text-align: right;\n",
       "    }\n",
       "</style>\n",
       "<table border=\"1\" class=\"dataframe\">\n",
       "  <thead>\n",
       "    <tr style=\"text-align: right;\">\n",
       "      <th></th>\n",
       "      <th>Dst Port</th>\n",
       "      <th>Protocol</th>\n",
       "      <th>Timestamp</th>\n",
       "      <th>Flow Duration</th>\n",
       "      <th>Tot Fwd Pkts</th>\n",
       "      <th>Tot Bwd Pkts</th>\n",
       "      <th>TotLen Fwd Pkts</th>\n",
       "      <th>TotLen Bwd Pkts</th>\n",
       "      <th>Flow IAT Mean</th>\n",
       "      <th>Fwd PSH Flags</th>\n",
       "      <th>...</th>\n",
       "      <th>ACK Flag Cnt</th>\n",
       "      <th>URG Flag Cnt</th>\n",
       "      <th>CWE Flag Count</th>\n",
       "      <th>ECE Flag Cnt</th>\n",
       "      <th>Subflow Fwd Pkts</th>\n",
       "      <th>Subflow Fwd Byts</th>\n",
       "      <th>Subflow Bwd Pkts</th>\n",
       "      <th>Subflow Bwd Byts</th>\n",
       "      <th>Label</th>\n",
       "      <th>Target</th>\n",
       "    </tr>\n",
       "  </thead>\n",
       "  <tbody>\n",
       "    <tr>\n",
       "      <th>0</th>\n",
       "      <td>22</td>\n",
       "      <td>6</td>\n",
       "      <td>23/02/2018 08:18:29</td>\n",
       "      <td>1532698</td>\n",
       "      <td>11</td>\n",
       "      <td>11</td>\n",
       "      <td>1179</td>\n",
       "      <td>1969</td>\n",
       "      <td>7.298562e+04</td>\n",
       "      <td>0</td>\n",
       "      <td>...</td>\n",
       "      <td>0</td>\n",
       "      <td>0</td>\n",
       "      <td>0</td>\n",
       "      <td>0</td>\n",
       "      <td>11</td>\n",
       "      <td>1179</td>\n",
       "      <td>11</td>\n",
       "      <td>1969</td>\n",
       "      <td>Benign</td>\n",
       "      <td>0</td>\n",
       "    </tr>\n",
       "    <tr>\n",
       "      <th>1</th>\n",
       "      <td>500</td>\n",
       "      <td>17</td>\n",
       "      <td>23/02/2018 08:17:45</td>\n",
       "      <td>117573855</td>\n",
       "      <td>3</td>\n",
       "      <td>0</td>\n",
       "      <td>1500</td>\n",
       "      <td>0</td>\n",
       "      <td>5.878693e+07</td>\n",
       "      <td>0</td>\n",
       "      <td>...</td>\n",
       "      <td>0</td>\n",
       "      <td>0</td>\n",
       "      <td>0</td>\n",
       "      <td>0</td>\n",
       "      <td>3</td>\n",
       "      <td>1500</td>\n",
       "      <td>0</td>\n",
       "      <td>0</td>\n",
       "      <td>Benign</td>\n",
       "      <td>0</td>\n",
       "    </tr>\n",
       "    <tr>\n",
       "      <th>2</th>\n",
       "      <td>500</td>\n",
       "      <td>17</td>\n",
       "      <td>23/02/2018 08:17:45</td>\n",
       "      <td>117573848</td>\n",
       "      <td>3</td>\n",
       "      <td>0</td>\n",
       "      <td>1500</td>\n",
       "      <td>0</td>\n",
       "      <td>5.878692e+07</td>\n",
       "      <td>0</td>\n",
       "      <td>...</td>\n",
       "      <td>0</td>\n",
       "      <td>0</td>\n",
       "      <td>0</td>\n",
       "      <td>0</td>\n",
       "      <td>3</td>\n",
       "      <td>1500</td>\n",
       "      <td>0</td>\n",
       "      <td>0</td>\n",
       "      <td>Benign</td>\n",
       "      <td>0</td>\n",
       "    </tr>\n",
       "    <tr>\n",
       "      <th>3</th>\n",
       "      <td>22</td>\n",
       "      <td>6</td>\n",
       "      <td>23/02/2018 08:19:55</td>\n",
       "      <td>1745392</td>\n",
       "      <td>11</td>\n",
       "      <td>11</td>\n",
       "      <td>1179</td>\n",
       "      <td>1969</td>\n",
       "      <td>8.311390e+04</td>\n",
       "      <td>0</td>\n",
       "      <td>...</td>\n",
       "      <td>0</td>\n",
       "      <td>0</td>\n",
       "      <td>0</td>\n",
       "      <td>0</td>\n",
       "      <td>11</td>\n",
       "      <td>1179</td>\n",
       "      <td>11</td>\n",
       "      <td>1969</td>\n",
       "      <td>Benign</td>\n",
       "      <td>0</td>\n",
       "    </tr>\n",
       "    <tr>\n",
       "      <th>4</th>\n",
       "      <td>500</td>\n",
       "      <td>17</td>\n",
       "      <td>23/02/2018 08:18:17</td>\n",
       "      <td>89483474</td>\n",
       "      <td>6</td>\n",
       "      <td>0</td>\n",
       "      <td>3000</td>\n",
       "      <td>0</td>\n",
       "      <td>1.789669e+07</td>\n",
       "      <td>0</td>\n",
       "      <td>...</td>\n",
       "      <td>0</td>\n",
       "      <td>0</td>\n",
       "      <td>0</td>\n",
       "      <td>0</td>\n",
       "      <td>6</td>\n",
       "      <td>3000</td>\n",
       "      <td>0</td>\n",
       "      <td>0</td>\n",
       "      <td>Benign</td>\n",
       "      <td>0</td>\n",
       "    </tr>\n",
       "  </tbody>\n",
       "</table>\n",
       "<p>5 rows × 27 columns</p>\n",
       "</div>"
      ],
      "text/plain": [
       "   Dst Port  Protocol            Timestamp  Flow Duration  Tot Fwd Pkts  \\\n",
       "0        22         6  23/02/2018 08:18:29        1532698            11   \n",
       "1       500        17  23/02/2018 08:17:45      117573855             3   \n",
       "2       500        17  23/02/2018 08:17:45      117573848             3   \n",
       "3        22         6  23/02/2018 08:19:55        1745392            11   \n",
       "4       500        17  23/02/2018 08:18:17       89483474             6   \n",
       "\n",
       "   Tot Bwd Pkts  TotLen Fwd Pkts  TotLen Bwd Pkts  Flow IAT Mean  \\\n",
       "0            11             1179             1969   7.298562e+04   \n",
       "1             0             1500                0   5.878693e+07   \n",
       "2             0             1500                0   5.878692e+07   \n",
       "3            11             1179             1969   8.311390e+04   \n",
       "4             0             3000                0   1.789669e+07   \n",
       "\n",
       "   Fwd PSH Flags  ...  ACK Flag Cnt  URG Flag Cnt  CWE Flag Count  \\\n",
       "0              0  ...             0             0               0   \n",
       "1              0  ...             0             0               0   \n",
       "2              0  ...             0             0               0   \n",
       "3              0  ...             0             0               0   \n",
       "4              0  ...             0             0               0   \n",
       "\n",
       "   ECE Flag Cnt  Subflow Fwd Pkts  Subflow Fwd Byts  Subflow Bwd Pkts  \\\n",
       "0             0                11              1179                11   \n",
       "1             0                 3              1500                 0   \n",
       "2             0                 3              1500                 0   \n",
       "3             0                11              1179                11   \n",
       "4             0                 6              3000                 0   \n",
       "\n",
       "   Subflow Bwd Byts   Label  Target  \n",
       "0              1969  Benign       0  \n",
       "1                 0  Benign       0  \n",
       "2                 0  Benign       0  \n",
       "3              1969  Benign       0  \n",
       "4                 0  Benign       0  \n",
       "\n",
       "[5 rows x 27 columns]"
      ]
     },
     "metadata": {},
     "output_type": "display_data"
    }
   ],
   "source": [
    "display(df.head())"
   ]
  },
  {
   "cell_type": "code",
   "execution_count": 6,
   "metadata": {},
   "outputs": [],
   "source": [
    "y = df['Target']\n",
    "# drop_cols = [col for col in df.columns if col not in x_cols]\n",
    "x = df.drop(['Label', 'Target', 'Timestamp'], axis=1)"
   ]
  },
  {
   "cell_type": "code",
   "execution_count": 7,
   "metadata": {},
   "outputs": [
    {
     "data": {
      "text/plain": [
       "0    0\n",
       "1    0\n",
       "2    0\n",
       "3    0\n",
       "4    0\n",
       "Name: Target, dtype: int64"
      ]
     },
     "metadata": {},
     "output_type": "display_data"
    }
   ],
   "source": [
    "display(y.head())"
   ]
  },
  {
   "cell_type": "code",
   "execution_count": 8,
   "metadata": {},
   "outputs": [],
   "source": [
    "#function that takes X, Y and gives you a train test split\n",
    "def doTrainTestSplit(X,Y):\n",
    "    #breakpoint()\n",
    "    #look at dask dataframes\n",
    "#     display(X.head())\n",
    "#     display(Y.head())\n",
    "   \n",
    "    #get splits\n",
    "    X_train, X_test, y_train, y_test = train_test_split(X,Y,test_size=.3)\n",
    "#     display(X_train.compute())\n",
    "#     display(y_train.compute())\n",
    "    return X_train, X_test, y_train, y_test "
   ]
  },
  {
   "cell_type": "code",
   "execution_count": 9,
   "metadata": {},
   "outputs": [],
   "source": [
    "def doKFolds(X,Y):\n",
    "    \n",
    "    #look at dask dataframes\n",
    "    display(X.head())\n",
    "    display(yD.head())\n",
    "\n",
    "    #create KFold object\n",
    "    c = KFold()\n",
    "    #breakpoint()\n",
    "    #split on dask arrays, doesn't work on dataframes yet\n",
    "    gen = c.split(X.to_dask_array(lengths=True),Y.to_dask_array(lengths=True))\n",
    "\n",
    "    #inspect generator\n",
    "    print(gen)\n",
    "    display(type(gen))\n",
    "    \n",
    "    #call generator\n",
    "    for train,test in gen:\n",
    "        print(\"train = \",train.compute())\n",
    "        print(\"test = \",test.compute())\n",
    "        print(\"x train = \",X.loc[train])\n",
    "        got = X.loc[train.compute()]\n",
    "        display(got.head())\n",
    "        #print(got.compute())\n",
    "        clf.fit(got,got)\n"
   ]
  },
  {
   "cell_type": "code",
   "execution_count": 10,
   "metadata": {},
   "outputs": [],
   "source": [
    "x_train, x_test, y_train, y_test = doTrainTestSplit(x,y)"
   ]
  },
  {
   "cell_type": "code",
   "execution_count": 11,
   "metadata": {},
   "outputs": [],
   "source": [
    "imp = SimpleImputer(missing_values=np.nan, strategy='mean')\n",
    "scaler = StandardScaler()"
   ]
  },
  {
   "cell_type": "code",
   "execution_count": 13,
   "metadata": {},
   "outputs": [],
   "source": [
    "from sklearn.metrics import precision_score, recall_score\n",
    "xgb_clf = xgb.XGBClassifier(n_estimators=5, max_depth=10)\n",
    "rf_clf= tree.DecisionTreeClassifier()"
   ]
  },
  {
   "cell_type": "code",
   "execution_count": 13,
   "metadata": {},
   "outputs": [
    {
     "name": "stdout",
     "output_type": "stream",
     "text": [
      "32.7 s ± 1.71 s per loop (mean ± std. dev. of 7 runs, 10 loops each)\n"
     ]
    }
   ],
   "source": [
    "%%timeit -n 10\n",
    "#time with just pandas\n",
    "with joblib.parallel_backend('threading'):\n",
    "     xgb_clf.fit(x_train.compute(), y_train.compute(), eval_metric=precision_score)"
   ]
  },
  {
   "cell_type": "code",
   "execution_count": 14,
   "metadata": {},
   "outputs": [
    {
     "data": {
      "text/plain": [
       "0.9835228642170074"
      ]
     },
     "execution_count": 14,
     "metadata": {},
     "output_type": "execute_result"
    }
   ],
   "source": [
    "precision_score(y_test.compute(), xgb_clf.predict(x_test.compute()))"
   ]
  },
  {
   "cell_type": "code",
   "execution_count": 15,
   "metadata": {},
   "outputs": [
    {
     "name": "stdout",
     "output_type": "stream",
     "text": [
      "32.3 s ± 2.48 s per loop (mean ± std. dev. of 7 runs, 10 loops each)\n"
     ]
    }
   ],
   "source": [
    "%%timeit -n 10\n",
    "#time with just pandas\n",
    "with joblib.parallel_backend('dask'):\n",
    "     xgb_clf.fit(x_train.compute(), y_train.compute(), eval_metric=precision_score)"
   ]
  },
  {
   "cell_type": "code",
   "execution_count": 14,
   "metadata": {},
   "outputs": [
    {
     "data": {
      "text/plain": [
       "DecisionTreeClassifier(class_weight=None, criterion='gini', max_depth=None,\n",
       "                       max_features=None, max_leaf_nodes=None,\n",
       "                       min_impurity_decrease=0.0, min_impurity_split=None,\n",
       "                       min_samples_leaf=1, min_samples_split=2,\n",
       "                       min_weight_fraction_leaf=0.0, presort=False,\n",
       "                       random_state=None, splitter='best')"
      ]
     },
     "execution_count": 14,
     "metadata": {},
     "output_type": "execute_result"
    }
   ],
   "source": [
    "xgb_clf.fit(x_train.compute(), y_train.compute(), eval_metric=precision_score)\n",
    "rf_clf.fit(x_train.compute(), y_train.compute())"
   ]
  },
  {
   "cell_type": "code",
   "execution_count": 15,
   "metadata": {},
   "outputs": [
    {
     "data": {
      "text/plain": [
       "0.9834634138314968"
      ]
     },
     "execution_count": 15,
     "metadata": {},
     "output_type": "execute_result"
    }
   ],
   "source": [
    "precision_score(y_test.compute(), xgb_clf.predict(x_test.compute()))"
   ]
  },
  {
   "cell_type": "code",
   "execution_count": 17,
   "metadata": {},
   "outputs": [
    {
     "data": {
      "text/plain": [
       "0.9926953536024811"
      ]
     },
     "execution_count": 17,
     "metadata": {},
     "output_type": "execute_result"
    }
   ],
   "source": [
    "recall_score(y_test.compute(), rf_clf.predict(x_test.compute()))"
   ]
  },
  {
   "cell_type": "code",
   "execution_count": 14,
   "metadata": {},
   "outputs": [
    {
     "data": {
      "text/plain": [
       "array([[179701,   1205],\n",
       "       [  2940, 446466]])"
      ]
     },
     "execution_count": 14,
     "metadata": {},
     "output_type": "execute_result"
    }
   ],
   "source": [
    "y_hat = xgb_clf.predict(x_test.compute())\n",
    "confusion_matrix(y_test, y_hat, labels=[1,0])"
   ]
  },
  {
   "cell_type": "code",
   "execution_count": 15,
   "metadata": {},
   "outputs": [
    {
     "data": {
      "text/plain": [
       "0.9933390821752733"
      ]
     },
     "execution_count": 15,
     "metadata": {},
     "output_type": "execute_result"
    }
   ],
   "source": [
    "print(precision_score(y_test, y_hat))\n",
    "print(recall_score(y_test, y_hat))"
   ]
  },
  {
   "cell_type": "code",
   "execution_count": null,
   "metadata": {},
   "outputs": [],
   "source": []
  }
 ],
 "metadata": {
  "kernelspec": {
   "display_name": "Python 3.7.3 64-bit ('base': conda)",
   "language": "python",
   "name": "python37364bitbasecondaa9d3b5d186f149eeb25c9be13305630c"
  },
  "language_info": {
   "codemirror_mode": {
    "name": "ipython",
    "version": 3
   },
   "file_extension": ".py",
   "mimetype": "text/x-python",
   "name": "python",
   "nbconvert_exporter": "python",
   "pygments_lexer": "ipython3",
   "version": "3.7.3"
  }
 },
 "nbformat": 4,
 "nbformat_minor": 4
}
